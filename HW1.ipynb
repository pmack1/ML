{
 "cells": [
  {
   "cell_type": "code",
   "execution_count": 8,
   "metadata": {
    "collapsed": false,
    "scrolled": false
   },
   "outputs": [
    {
     "data": {
      "text/html": [
       "<script>jQuery(function() {if (jQuery(\"body.notebook_app\").length == 0) { jQuery(\".input_area\").toggle(); jQuery(\".prompt\").toggle();}});</script>"
      ]
     },
     "metadata": {},
     "output_type": "display_data"
    },
    {
     "data": {
      "text/html": [
       "<button onclick=\"jQuery('.input_area').toggle(); jQuery('.prompt').toggle();\">Toggle code</button>"
      ]
     },
     "metadata": {},
     "output_type": "display_data"
    }
   ],
   "source": [
    "##### Function to Hide Code found at: http://stackoverflow.com/questions/27934885/how-to-hide-code-from-cells-in-ipython-notebook-visualized-with-nbviewer\n",
    "from IPython.display import display\n",
    "from IPython.display import HTML\n",
    "import IPython.core.display as di # Example: di.display_html('<h3>%s:</h3>' % str, raw=True)\n",
    "\n",
    "# This line will hide code by default when the notebook is exported as HTML\n",
    "di.display_html('<script>jQuery(function() {if (jQuery(\"body.notebook_app\").length == 0) { jQuery(\".input_area\").toggle(); jQuery(\".prompt\").toggle();}});</script>', raw=True)\n",
    "\n",
    "# This line will add a button to toggle visibility of code blocks, for use with the HTML export version\n",
    "di.display_html('''<button onclick=\"jQuery('.input_area').toggle(); jQuery('.prompt').toggle();\">Toggle code</button>''', raw=True)"
   ]
  },
  {
   "cell_type": "code",
   "execution_count": null,
   "metadata": {
    "collapsed": false
   },
   "outputs": [],
   "source": []
  },
  {
   "cell_type": "code",
   "execution_count": 5,
   "metadata": {
    "collapsed": false
   },
   "outputs": [],
   "source": [
    "import pandas as pd\n",
    "import numpy as np\n",
    "import requests\n",
    "import matplotlib.pyplot as plt\n",
    "from pylab import figure, axes, pie, title, show\n"
   ]
  },
  {
   "cell_type": "code",
   "execution_count": 6,
   "metadata": {
    "collapsed": false,
    "scrolled": true
   },
   "outputs": [],
   "source": [
    "df = pd.read_csv(\"mock_student_data.csv\")\n",
    "columns = df.columns"
   ]
  },
  {
   "cell_type": "code",
   "execution_count": 22,
   "metadata": {
    "collapsed": false
   },
   "outputs": [],
   "source": [
    "df['Age'].hist()\n",
    "plt.title(\"Age Distribution\")\n",
    "plt.savefig(\"Age\")\n",
    "plt.close()"
   ]
  },
  {
   "cell_type": "code",
   "execution_count": 23,
   "metadata": {
    "collapsed": true
   },
   "outputs": [],
   "source": [
    "df['GPA'].hist()\n",
    "plt.title(\"GPA Distribution\")\n",
    "plt.savefig(\"GPA\")\n",
    "plt.close()"
   ]
  },
  {
   "cell_type": "code",
   "execution_count": 24,
   "metadata": {
    "collapsed": true
   },
   "outputs": [],
   "source": [
    "df['Days_missed'].hist()\n",
    "plt.title(\"Days_missed Distribution\")\n",
    "plt.savefig(\"Days_missed\")\n",
    "plt.close()"
   ]
  },
  {
   "cell_type": "code",
   "execution_count": null,
   "metadata": {
    "collapsed": false
   },
   "outputs": [],
   "source": [
    "f['Days_missed'].hist()\n",
    "plt.title(\"Days_missed Distribution\")\n",
    "plt.savefig(\"Days_missed\")\n",
    "plt.close()"
   ]
  },
  {
   "cell_type": "markdown",
   "metadata": {},
   "source": [
    "# Age"
   ]
  },
  {
   "cell_type": "code",
   "execution_count": 199,
   "metadata": {
    "collapsed": false,
    "scrolled": true,
    "slideshow": {
     "slide_type": "slide"
    }
   },
   "outputs": [
    {
     "data": {
      "text/html": [
       "<div>\n",
       "<table border=\"1\" class=\"dataframe\">\n",
       "  <thead>\n",
       "    <tr style=\"text-align: right;\">\n",
       "      <th></th>\n",
       "      <th>mean</th>\n",
       "      <th>median</th>\n",
       "      <th>mode</th>\n",
       "      <th>standard_deviation</th>\n",
       "      <th>null_count</th>\n",
       "    </tr>\n",
       "  </thead>\n",
       "  <tbody>\n",
       "    <tr>\n",
       "      <th>0</th>\n",
       "      <td>16.996109</td>\n",
       "      <td>17.0</td>\n",
       "      <td>15.0</td>\n",
       "      <td>1.458067</td>\n",
       "      <td>229</td>\n",
       "    </tr>\n",
       "  </tbody>\n",
       "</table>\n",
       "</div>"
      ],
      "text/plain": [
       "        mean  median  mode  standard_deviation  null_count\n",
       "0  16.996109    17.0  15.0            1.458067         229"
      ]
     },
     "execution_count": 199,
     "metadata": {},
     "output_type": "execute_result"
    }
   ],
   "source": [
    "age_summary = summary_table(df, 'Age')\n",
    "age_summary"
   ]
  },
  {
   "cell_type": "markdown",
   "metadata": {},
   "source": [
    "# GPA"
   ]
  },
  {
   "cell_type": "code",
   "execution_count": 200,
   "metadata": {
    "collapsed": false
   },
   "outputs": [
    {
     "data": {
      "text/html": [
       "<div>\n",
       "<table border=\"1\" class=\"dataframe\">\n",
       "  <thead>\n",
       "    <tr style=\"text-align: right;\">\n",
       "      <th></th>\n",
       "      <th>mean</th>\n",
       "      <th>median</th>\n",
       "      <th>mode</th>\n",
       "      <th>standard_deviation</th>\n",
       "      <th>null_count</th>\n",
       "    </tr>\n",
       "  </thead>\n",
       "  <tbody>\n",
       "    <tr>\n",
       "      <th>0</th>\n",
       "      <td>2.988447</td>\n",
       "      <td>3.0</td>\n",
       "      <td>2.0</td>\n",
       "      <td>0.818249</td>\n",
       "      <td>221</td>\n",
       "    </tr>\n",
       "  </tbody>\n",
       "</table>\n",
       "</div>"
      ],
      "text/plain": [
       "       mean  median  mode  standard_deviation  null_count\n",
       "0  2.988447     3.0   2.0            0.818249         221"
      ]
     },
     "execution_count": 200,
     "metadata": {},
     "output_type": "execute_result"
    }
   ],
   "source": [
    "gpa_summary = summary_table(df, 'GPA')\n",
    "gpa_summary"
   ]
  },
  {
   "cell_type": "markdown",
   "metadata": {},
   "source": [
    "# Days Missed"
   ]
  },
  {
   "cell_type": "code",
   "execution_count": 10,
   "metadata": {
    "collapsed": false
   },
   "outputs": [
    {
     "data": {
      "text/html": [
       "<div>\n",
       "<table border=\"1\" class=\"dataframe\">\n",
       "  <thead>\n",
       "    <tr style=\"text-align: right;\">\n",
       "      <th></th>\n",
       "      <th>mean</th>\n",
       "      <th>median</th>\n",
       "      <th>mode</th>\n",
       "      <th>standard_deviation</th>\n",
       "      <th>null_count</th>\n",
       "    </tr>\n",
       "  </thead>\n",
       "  <tbody>\n",
       "    <tr>\n",
       "      <th>0</th>\n",
       "      <td>18.011139</td>\n",
       "      <td>18.0</td>\n",
       "      <td>6.0</td>\n",
       "      <td>9.629371</td>\n",
       "      <td>192</td>\n",
       "    </tr>\n",
       "    <tr>\n",
       "      <th>1</th>\n",
       "      <td>18.011139</td>\n",
       "      <td>18.0</td>\n",
       "      <td>14.0</td>\n",
       "      <td>9.629371</td>\n",
       "      <td>192</td>\n",
       "    </tr>\n",
       "    <tr>\n",
       "      <th>2</th>\n",
       "      <td>18.011139</td>\n",
       "      <td>18.0</td>\n",
       "      <td>31.0</td>\n",
       "      <td>9.629371</td>\n",
       "      <td>192</td>\n",
       "    </tr>\n",
       "  </tbody>\n",
       "</table>\n",
       "</div>"
      ],
      "text/plain": [
       "        mean  median  mode  standard_deviation  null_count\n",
       "0  18.011139    18.0   6.0            9.629371         192\n",
       "1  18.011139    18.0  14.0            9.629371         192\n",
       "2  18.011139    18.0  31.0            9.629371         192"
      ]
     },
     "execution_count": 10,
     "metadata": {},
     "output_type": "execute_result"
    }
   ],
   "source": [
    "days_missed_summary = summary_table(df, 'Days_missed')\n",
    "days_missed_summary"
   ]
  },
  {
   "cell_type": "code",
   "execution_count": 185,
   "metadata": {
    "collapsed": false
   },
   "outputs": [],
   "source": [
    "#infer gender for missing values with API \n",
    "fill_gender(df)\n"
   ]
  },
  {
   "cell_type": "code",
   "execution_count": 143,
   "metadata": {
    "collapsed": false
   },
   "outputs": [],
   "source": [
    "#### mean meth0d for missing data\n",
    "df_mean = df.copy()\n",
    "fill_mean(df_mean,\"Age\")\n",
    "fill_mean(df_mean,\"GPA\")\n",
    "fill_mean(df_mean,\"Days_missed\")\n",
    "df_mean.to_csv(\"Student_Data_Filled_With_Mean.csv\")\n"
   ]
  },
  {
   "cell_type": "code",
   "execution_count": 144,
   "metadata": {
    "collapsed": true
   },
   "outputs": [],
   "source": [
    "##### class  conditional mean method for missing data\n",
    "df_conditional_mean = df.copy()\n",
    "fill_conditional(df_conditional_mean,\"Age\")\n",
    "fill_conditional(df_conditional_mean,\"GPA\")\n",
    "fill_conditional(df_conditional_mean,\"Days_missed\")\n",
    "df_conditional_mean.to_csv(\"Student_Data_Filled_With_Conditional_Mean.csv\")\n"
   ]
  },
  {
   "cell_type": "code",
   "execution_count": 189,
   "metadata": {
    "collapsed": false
   },
   "outputs": [],
   "source": [
    "#### Possible Alternative solution\n",
    "df_multiple_conditional_mean = df.copy()\n",
    "fill_multiple_conditional(df_multiple_conditional_mean, \"Age\", check_gender= True)\n",
    "fill_multiple_conditional(df_multiple_conditional_mean, \"GPA\", check_gender = True)\n",
    "fill_multiple_conditional(df_multiple_conditional_mean, \"Days_missed\", check_gender = True)\n",
    "df_conditional_mean.to_csv(\"Student_Data_Filled_With_Conditional_Mean_With_Gender.csv\")\n",
    "\n"
   ]
  },
  {
   "cell_type": "code",
   "execution_count": 9,
   "metadata": {
    "collapsed": false,
    "scrolled": true
   },
   "outputs": [],
   "source": [
    "def summary_table(df,col):\n",
    "    mode_list = []\n",
    "    for mode in df[col].mode():\n",
    "        mode_list.append(mode)\n",
    "    summary = {'mean': df[col].mean(),\n",
    "                'median':df[col].median(),\n",
    "                'mode': mode_list,\n",
    "                'standard_deviation': df[col].std(),\n",
    "                'null_count': len(df[col]) - df[col].count()}\n",
    "    summary_df = pd.DataFrame(summary, columns = ['mean', 'median', 'mode', 'standard_deviation', 'null_count'])\n",
    "    return  summary_df"
   ]
  },
  {
   "cell_type": "code",
   "execution_count": 108,
   "metadata": {
    "collapsed": false,
    "scrolled": true
   },
   "outputs": [],
   "source": [
    "def fill_gender(df):\n",
    "    missing = df.loc[df['Gender'].isnull(),'First_name']\n",
    "    infer = []\n",
    "    for name in missing:\n",
    "        infer.append(infer_gender(name))\n",
    "    df.loc[df['Gender'].isnull(),'Gender'] = infer"
   ]
  },
  {
   "cell_type": "code",
   "execution_count": 183,
   "metadata": {
    "collapsed": true,
    "scrolled": true
   },
   "outputs": [],
   "source": [
    "def infer_gender(name):\n",
    "    url = \"https://api.genderize.io/?name=\"\n",
    "    request = url + name\n",
    "    r = requests.get(request)\n",
    "    gender = r.json()['gender']\n",
    "    return gender.title()"
   ]
  },
  {
   "cell_type": "code",
   "execution_count": 102,
   "metadata": {
    "collapsed": true,
    "scrolled": true
   },
   "outputs": [],
   "source": [
    "def fill_mean(df, column_name):\n",
    "    df.loc[df[column_name].isnull(), column_name] = df[column_name].mean()"
   ]
  },
  {
   "cell_type": "code",
   "execution_count": 137,
   "metadata": {
    "collapsed": false,
    "scrolled": true
   },
   "outputs": [],
   "source": [
    "def fill_conditional(df, col):\n",
    "    GRAD = df['Graduated'] == \"Yes\"\n",
    "    NOGRAD = df['Graduated'] == \"No\"\n",
    "    COL_EMPTY = df[col].isnull()\n",
    "    grad_col = df[GRAD][col].mean()\n",
    "    nograd_col = df[NOGRAD][col].mean()\n",
    "\n",
    "    df.loc[GRAD & COL_EMPTY, col] = grad_col\n",
    "    df.loc[NOGRAD & COL_EMPTY, col] = nograd_col"
   ]
  },
  {
   "cell_type": "code",
   "execution_count": 188,
   "metadata": {
    "collapsed": false,
    "scrolled": true
   },
   "outputs": [],
   "source": [
    "def fill_multiple_conditional(df,col,check_gender = False):\n",
    "    if not(check_gender):\n",
    "        GRAD = df['Graduated'] == \"Yes\"\n",
    "        NOGRAD = df['Graduated'] == \"No\"\n",
    "        COL_EMPTY = df[col].isnull()\n",
    "        grad_col = df[GRAD][col].mean()\n",
    "        nograd_col = df[NOGRAD][col].mean()\n",
    "\n",
    "        df.loc[GRAD & COL_EMPTY, col] = grad_col\n",
    "        df.loc[NOGRAD & COL_EMPTY, col] = nograd_col\n",
    "    if check_gender:\n",
    "        GRAD = df['Graduated'] == \"Yes\"\n",
    "        NOGRAD = df['Graduated'] == \"No\"\n",
    "        COL_EMPTY = df[col].isnull()\n",
    "        MALE = df['Gender'] == \"Male\"\n",
    "        FEMALE = df['Gender'] == \"Female\"\n",
    "        male_grad_col = df[MALE & GRAD][col].mean()\n",
    "        female_grad_col = df[FEMALE & GRAD][col].mean()\n",
    "        male_nograd_col = df[MALE & NOGRAD][col].mean()\n",
    "        female_nograd_col = df[FEMALE & NOGRAD][col].mean()\n",
    "        \n",
    "        df.loc[GRAD & COL_EMPTY & MALE, col] = male_grad_col\n",
    "        df.loc[NOGRAD & COL_EMPTY & MALE, col] = male_nograd_col\n",
    "        df.loc[GRAD & COL_EMPTY & FEMALE, col] = female_grad_col\n",
    "        df.loc[NOGRAD & COL_EMPTY & FEMALE, col] = female_nograd_col\n",
    "        \n",
    "        \n",
    "        \n",
    "        \n"
   ]
  },
  {
   "cell_type": "code",
   "execution_count": null,
   "metadata": {
    "collapsed": true
   },
   "outputs": [],
   "source": []
  }
 ],
 "metadata": {
  "kernelspec": {
   "display_name": "Python 3",
   "language": "python",
   "name": "python3"
  },
  "language_info": {
   "codemirror_mode": {
    "name": "ipython",
    "version": 3
   },
   "file_extension": ".py",
   "mimetype": "text/x-python",
   "name": "python",
   "nbconvert_exporter": "python",
   "pygments_lexer": "ipython3",
   "version": "3.5.1"
  }
 },
 "nbformat": 4,
 "nbformat_minor": 0
}
